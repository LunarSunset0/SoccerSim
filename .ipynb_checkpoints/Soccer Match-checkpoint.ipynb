{
 "cells": [
  {
   "cell_type": "code",
   "execution_count": 236,
   "metadata": {},
   "outputs": [],
   "source": [
    "import random"
   ]
  },
  {
   "cell_type": "code",
   "execution_count": 237,
   "metadata": {},
   "outputs": [],
   "source": [
    "#Player Object/Class\n",
    "class Player:\n",
    "    def __init__(self, team, number):\n",
    "        #self.name = name\n",
    "        self.team = team\n",
    "        self.number = number\n",
    "        self.shooting = self.passing = self.defending = self.goalkeeping = self.control = 0\n",
    "        if self.number == 1:\n",
    "            self.pos = \"GK\"\n",
    "            self.goalkeeping = random.randint(15,20)\n",
    "        elif self.number == 2:\n",
    "            self.pos = \"LB\"\n",
    "            self.defending = random.randint(15,20)\n",
    "        elif self.number == 3 or self.number == 4:\n",
    "            self.pos = \"CB\"\n",
    "            self.defending = random.randint(15,20)\n",
    "        elif self.number == 5:\n",
    "            self.pos = \"RB\"\n",
    "            self.defending = random.randint(15,20)\n",
    "        elif self.number == 6 or self.number == 7:\n",
    "            self.pos = \"CM\"\n",
    "            self.defending = random.randint(15,20)\n",
    "        elif self.number == 8:\n",
    "            self.pos = \"LM\"\n",
    "            self.defending = random.randint(15,20)\n",
    "        elif self.number == 11:\n",
    "            self.pos = \"RM\"\n",
    "            self.passing = random.randint(15,20)\n",
    "        else:\n",
    "            self.pos = \"ST\"\n",
    "            self.shooting = random.randint(15,20)\n",
    "    def returnPos(self):\n",
    "        return self.pos\n",
    "    def info(self):\n",
    "        print(\"Player plays for \" + self.team + \" is a \"+ self.pos +\", number is \" + str(self.number) +\".\")\n",
    "    def totalStats(self):\n",
    "        return (self.shooting + self.passing + self.defending + self.goalkeeping + self.control)\n",
    "           "
   ]
  },
  {
   "cell_type": "code",
   "execution_count": 238,
   "metadata": {},
   "outputs": [],
   "source": [
    "#Teams 1 and 2\n",
    "team1 = []\n",
    "team2 = []\n",
    "#Fill Teams 1 and 2 with Player Objects\n",
    "for x in range(11):\n",
    "    team1.append(Player(\"Team 1\", (x+1)))\n",
    "    team2.append(Player(\"Team 2\", (x+1)))\n"
   ]
  },
  {
   "cell_type": "code",
   "execution_count": 239,
   "metadata": {},
   "outputs": [],
   "source": [
    "Team1Average = 0\n",
    "Team2Average = 0\n",
    "for s in range(11):\n",
    "    Team1Average += team1[s].totalStats()\n",
    "    Team2Average += team2[s].totalStats()"
   ]
  },
  {
   "cell_type": "code",
   "execution_count": 240,
   "metadata": {},
   "outputs": [],
   "source": [
    "Team1Def = Team1Mid = Team1Atk = 0\n",
    "Team2Def = Team2Mid = Team2Atk = 0\n",
    "for s in range(11):\n",
    "    if team1[s].returnPos() == \"CB\":\n",
    "        Team1Def += team1[s].totalStats()\n"
   ]
  },
  {
   "cell_type": "code",
   "execution_count": 241,
   "metadata": {},
   "outputs": [],
   "source": [
    "scoreA = scoreB = 0\n",
    "\n",
    "for time in range(90):\n",
    "    if (time%2) == 0:\n",
    "        if Team1Average > Team2Average:\n",
    "            scoreB += 1\n",
    "    else:\n",
    "        if Team2Average > Team1Average:\n",
    "            scoreB += 1"
   ]
  },
  {
   "cell_type": "code",
   "execution_count": 242,
   "metadata": {},
   "outputs": [
    {
     "name": "stdout",
     "output_type": "stream",
     "text": [
      "0\n"
     ]
    }
   ],
   "source": [
    "print(scoreA)"
   ]
  },
  {
   "cell_type": "code",
   "execution_count": 243,
   "metadata": {},
   "outputs": [
    {
     "name": "stdout",
     "output_type": "stream",
     "text": [
      "45\n"
     ]
    }
   ],
   "source": [
    "print(scoreB)"
   ]
  },
  {
   "cell_type": "code",
   "execution_count": null,
   "metadata": {},
   "outputs": [],
   "source": []
  },
  {
   "cell_type": "code",
   "execution_count": null,
   "metadata": {},
   "outputs": [],
   "source": []
  },
  {
   "cell_type": "code",
   "execution_count": null,
   "metadata": {},
   "outputs": [],
   "source": []
  },
  {
   "cell_type": "code",
   "execution_count": null,
   "metadata": {},
   "outputs": [],
   "source": []
  }
 ],
 "metadata": {
  "kernelspec": {
   "display_name": "Python 3",
   "language": "python",
   "name": "python3"
  },
  "language_info": {
   "codemirror_mode": {
    "name": "ipython",
    "version": 3
   },
   "file_extension": ".py",
   "mimetype": "text/x-python",
   "name": "python",
   "nbconvert_exporter": "python",
   "pygments_lexer": "ipython3",
   "version": "3.7.1"
  }
 },
 "nbformat": 4,
 "nbformat_minor": 2
}
