{
 "cells": [
  {
   "cell_type": "code",
   "execution_count": null,
   "metadata": {},
   "outputs": [],
   "source": []
  },
  {
   "cell_type": "code",
   "execution_count": 19,
   "metadata": {},
   "outputs": [],
   "source": [
    "#Player Object/Class\n",
    "class Player:\n",
    "    def __init__(self, team, number, pos):\n",
    "        #self.name = name\n",
    "        self.team = team\n",
    "        self.number = number\n",
    "        if self.number == 1:\n",
    "            self.pos = \"GK\"\n",
    "        elif self.number == 2:\n",
    "            self.pos = \"LB\"\n",
    "        elif self.number == (3 or 4):\n",
    "            self.pos = \"CB\"\n",
    "        elif self.number == 5:\n",
    "            self.pos = \"RB\"\n",
    "        elif self.number == (6 or 7):\n",
    "            self.pos = \"CM\"\n",
    "        elif self.number == 8:\n",
    "            self.pos = \"LM\"\n",
    "        elif self.number == 11:\n",
    "            self.pos = \"RM\"\n",
    "        else:\n",
    "            self.pos = \"ST\"\n",
    "            \n",
    "    def info(self):\n",
    "        print(\"Player plays for \" + self.team + \" is a \"+ self.pos +\", number is \" + str(self.number) +\".\")\n",
    "           "
   ]
  },
  {
   "cell_type": "code",
   "execution_count": 20,
   "metadata": {},
   "outputs": [],
   "source": [
    "#Teams 1 and 2\n",
    "team1 = []\n",
    "team2 = []\n",
    "#Fill Teams 1 and 2 with Player Objects\n",
    "for x in range(11):\n",
    "    team1.append(Player(\"Team 1\", (x+1),\"FW\"))\n",
    "    team2.append(Player(\"Team 2\", (x+1),\"FW\"))\n"
   ]
  },
  {
   "cell_type": "code",
   "execution_count": 21,
   "metadata": {},
   "outputs": [
    {
     "name": "stdout",
     "output_type": "stream",
     "text": [
      "Player plays for Team 1 is a RB, number is 5.\n"
     ]
    }
   ],
   "source": []
  },
  {
   "cell_type": "code",
   "execution_count": null,
   "metadata": {},
   "outputs": [],
   "source": []
  }
 ],
 "metadata": {
  "kernelspec": {
   "display_name": "Python 3",
   "language": "python",
   "name": "python3"
  },
  "language_info": {
   "codemirror_mode": {
    "name": "ipython",
    "version": 3
   },
   "file_extension": ".py",
   "mimetype": "text/x-python",
   "name": "python",
   "nbconvert_exporter": "python",
   "pygments_lexer": "ipython3",
   "version": "3.7.1"
  }
 },
 "nbformat": 4,
 "nbformat_minor": 2
}
