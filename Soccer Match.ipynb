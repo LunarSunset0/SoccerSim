{
 "cells": [
  {
   "cell_type": "code",
   "execution_count": 23,
   "metadata": {},
   "outputs": [],
   "source": [
    "import random"
   ]
  },
  {
   "cell_type": "code",
   "execution_count": 27,
   "metadata": {},
   "outputs": [],
   "source": [
    "#Player Object/Class\n",
    "class Player:\n",
    "    def __init__(self, team, number):\n",
    "        #self.name = name\n",
    "        self.team = team\n",
    "        self.number = number\n",
    "        self.shooting = self.passing = self.defending = self.goalkeeping = self.control = 0\n",
    "        if self.number == 1:\n",
    "            self.pos = \"GK\"\n",
    "            self.goalkeeping = random.randint(15,20)\n",
    "        elif self.number == 2:\n",
    "            self.pos = \"LB\"\n",
    "            self.defending = random.randint(15,20)\n",
    "        elif self.number == (3 or 4):\n",
    "            self.pos = \"CB\"\n",
    "            self.defending = random.randint(15,20)\n",
    "        elif self.number == 5:\n",
    "            self.pos = \"RB\"\n",
    "            self.defending = random.randint(15,20)\n",
    "        elif self.number == (6 or 7):\n",
    "            self.pos = \"CM\"\n",
    "            self.defending = random.randint(15,20)\n",
    "        elif self.number == 8:\n",
    "            self.pos = \"LM\"\n",
    "            self.defending = random.randint(15,20)\n",
    "        elif self.number == 11:\n",
    "            self.pos = \"RM\"\n",
    "            self.passing = random.randint(15,20)\n",
    "        else:\n",
    "            self.pos = \"ST\"\n",
    "            self.shooting = random.randint(15,20)\n",
    "            \n",
    "    def info(self):\n",
    "        print(\"Player plays for \" + self.team + \" is a \"+ self.pos +\", number is \" + str(self.number) +\".\")\n",
    "           "
   ]
  },
  {
   "cell_type": "code",
   "execution_count": 28,
   "metadata": {},
   "outputs": [],
   "source": [
    "#Teams 1 and 2\n",
    "team1 = []\n",
    "team2 = []\n",
    "#Fill Teams 1 and 2 with Player Objects\n",
    "for x in range(11):\n",
    "    team1.append(Player(\"Team 1\", (x+1)))\n",
    "    team2.append(Player(\"Team 2\", (x+1)))\n"
   ]
  },
  {
   "cell_type": "code",
   "execution_count": null,
   "metadata": {},
   "outputs": [],
   "source": []
  },
  {
   "cell_type": "code",
   "execution_count": null,
   "metadata": {},
   "outputs": [],
   "source": []
  }
 ],
 "metadata": {
  "kernelspec": {
   "display_name": "Python 3",
   "language": "python",
   "name": "python3"
  },
  "language_info": {
   "codemirror_mode": {
    "name": "ipython",
    "version": 3
   },
   "file_extension": ".py",
   "mimetype": "text/x-python",
   "name": "python",
   "nbconvert_exporter": "python",
   "pygments_lexer": "ipython3",
   "version": "3.7.1"
  }
 },
 "nbformat": 4,
 "nbformat_minor": 2
}
